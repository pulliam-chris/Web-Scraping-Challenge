{
 "cells": [
  {
   "cell_type": "code",
   "execution_count": 1,
   "id": "neural-prison",
   "metadata": {},
   "outputs": [],
   "source": [
    "# Dependencies\n",
    "import os\n",
    "from bs4 import BeautifulSoup as bs\n",
    "import pandas as pd"
   ]
  },
  {
   "cell_type": "code",
   "execution_count": 2,
   "id": "applied-rating",
   "metadata": {},
   "outputs": [],
   "source": [
    "# Read HTML from website\n",
    "import requests\n",
    "\n",
    "#NASA Mars News\n",
    "url = \"https://mars.nasa.gov/news\"\n",
    "html = requests.get(url).text\n",
    "\n",
    "# Create a Beautiful Soup object\n",
    "soup = bs(html, 'html.parser')\n",
    "\n",
    "marsinfo = {}"
   ]
  },
  {
   "cell_type": "code",
   "execution_count": 3,
   "id": "arctic-robert",
   "metadata": {},
   "outputs": [],
   "source": [
    "# Find the title/headlines by class\n",
    "allTitleElements = soup.find_all('div', class_='content_title')\n",
    "\n",
    "# A blank list to hold the headlines\n",
    "newsTitles = []\n",
    "# Loop over div elementsz\n",
    "for element in allTitleElements:\n",
    "    # If element has an anchor...\n",
    "    if (element.a):\n",
    "        # And the anchor has non-blank text...\n",
    "        if (element.a.text):\n",
    "            # Append the td to the list\n",
    "            newsTitles.append(element)"
   ]
  },
  {
   "cell_type": "code",
   "execution_count": 4,
   "id": "actual-spider",
   "metadata": {},
   "outputs": [],
   "source": [
    "# Find the paragraphs by class\n",
    "allParElements = soup.find_all('div', class_='rollover_description_inner')\n",
    "\n",
    "# A blank list to hold the descriptions\n",
    "newsParagraphs = []\n",
    "# Loop over div elements\n",
    "for element in allParElements:\n",
    "    # And the element has non-blank text...\n",
    "    if (element.text):\n",
    "        # Append the text to the list\n",
    "        newsParagraphs.append(element)"
   ]
  },
  {
   "cell_type": "code",
   "execution_count": 5,
   "id": "encouraging-bernard",
   "metadata": {},
   "outputs": [
    {
     "data": {
      "text/plain": [
       "[{'news_title': \"NASA's Perseverance Drives on Mars' Terrain for First Time\",\n",
       "  'news_p': 'The first trek of the agency’s largest, most advanced rover yet on the Red Planet marks a major milestone before science operations get under way.'},\n",
       " {'news_title': 'NASA Awards Mars Ascent Propulsion System Contract for Sample Return',\n",
       "  'news_p': 'The award moves NASA and ESA a step closer to realizing Mars Sample Return, an ambitious planetary exploration program that will build upon decades of science, knowledge, and experience.'},\n",
       " {'news_title': \"NASA to Provide Update on Perseverance ‘Firsts' Since Mars Landing\",\n",
       "  'news_p': 'Mission team members are participating in a virtual teleconference to discuss milestones achieved so far since the Feb. 18 landing and those to come.'},\n",
       " {'news_title': \"NASA's Mars Perseverance Rover Provides Front-Row Seat to Landing, First Audio Recording of Red Planet\",\n",
       "  'news_p': 'The agency’s newest rover captured first-of-its kind footage of its Feb. 18 touchdown and has recorded audio of Martian wind.'},\n",
       " {'news_title': 'NASA to Reveal New Video, Images From Mars Perseverance Rover',\n",
       "  'news_p': 'First-of-its kind footage from the agency’s newest rover will be presented during a briefing this morning.'},\n",
       " {'news_title': \"NASA's Next Mars Rover Is Ready for the Most Precise Landing Yet\",\n",
       "  'news_p': 'What to expect when the Mars 2020 Perseverance rover arrives at the Red Planet on Feb. 18, 2021.'}]"
      ]
     },
     "execution_count": 5,
     "metadata": {},
     "output_type": "execute_result"
    }
   ],
   "source": [
    "#Construct Dictionary of Titles w/ Paragraphs\n",
    "headlines = []\n",
    "\n",
    "for i in range(len(newsTitles)):\n",
    "    package = {}\n",
    "    package['news_title'] = newsTitles[i].text.strip()\n",
    "    package['news_p'] = newsParagraphs[i].text.strip()\n",
    "    headlines.append(package)\n",
    "\n",
    "marsinfo = headlines\n",
    "marsinfo"
   ]
  },
  {
   "cell_type": "code",
   "execution_count": 6,
   "id": "related-european",
   "metadata": {},
   "outputs": [],
   "source": [
    "from splinter import Browser\n",
    "from webdriver_manager.chrome import ChromeDriverManager\n",
    "import requests\n",
    "import time"
   ]
  },
  {
   "cell_type": "code",
   "execution_count": 11,
   "id": "heavy-wagner",
   "metadata": {},
   "outputs": [
    {
     "name": "stderr",
     "output_type": "stream",
     "text": [
      "[WDM] - ====== WebDriver manager ======\n",
      "[WDM] - Current google-chrome version is 89.0.4389\n",
      "[WDM] - Get LATEST driver version for 89.0.4389\n",
      "[WDM] - Driver [C:\\Users\\mrpar\\.wdm\\drivers\\chromedriver\\win32\\89.0.4389.23\\chromedriver.exe] found in cache\n"
     ]
    },
    {
     "name": "stdout",
     "output_type": "stream",
     "text": [
      "\n",
      "\n"
     ]
    }
   ],
   "source": [
    "executable_path = {'executable_path': ChromeDriverManager().install()}\n",
    "browser = Browser('chrome', **executable_path, headless=False)"
   ]
  },
  {
   "cell_type": "code",
   "execution_count": 12,
   "id": "pressing-lloyd",
   "metadata": {},
   "outputs": [],
   "source": [
    "# JPL Mars Space Images - Featured Image\n",
    "base_url = 'https://data-class-jpl-space.s3.amazonaws.com/JPL_Space/index.html'\n",
    "# Use Splinter to visit the URL\n",
    "browser.visit(base_url)\n",
    "time.sleep(1)"
   ]
  },
  {
   "cell_type": "code",
   "execution_count": 13,
   "id": "sixth-destruction",
   "metadata": {},
   "outputs": [
    {
     "data": {
      "text/plain": [
       "'https://data-class-jpl-space.s3.amazonaws.com/JPL_Space/image/featured/mars1.jpg'"
      ]
     },
     "execution_count": 13,
     "metadata": {},
     "output_type": "execute_result"
    }
   ],
   "source": [
    "html = browser.html\n",
    "soup = bs(html, 'html.parser')\n",
    "image_location = \"\"\n",
    "\n",
    "# Find the singular image\n",
    "for i in soup.find_all('img', class_='headerimage fade-in'):\n",
    "    image_location = (i.get('src'))\n",
    "\n",
    "# Image path collected was relative\n",
    "featured_image_url = \"https://data-class-jpl-space.s3.amazonaws.com/JPL_Space/\" + image_location\n",
    "featured_image_url"
   ]
  },
  {
   "cell_type": "code",
   "execution_count": 14,
   "id": "smaller-oasis",
   "metadata": {},
   "outputs": [],
   "source": [
    "# Mars Facts\n",
    "# Read HTML from website\n",
    "url = \"https://space-facts.com/mars/\"\n",
    "html = requests.get(url).text"
   ]
  },
  {
   "cell_type": "code",
   "execution_count": 15,
   "id": "liquid-tragedy",
   "metadata": {},
   "outputs": [],
   "source": [
    "# Create a Beautiful Soup object\n",
    "soup = bs(html, 'html.parser')"
   ]
  },
  {
   "cell_type": "code",
   "execution_count": 16,
   "id": "worse-current",
   "metadata": {},
   "outputs": [
    {
     "data": {
      "text/plain": [
       "['Equatorial Diameter:',\n",
       " '6,792 km',\n",
       " 'Polar Diameter:',\n",
       " '6,752 km',\n",
       " 'Mass:',\n",
       " '6.39 × 10^23 kg (0.11 Earths)',\n",
       " 'Moons:',\n",
       " '2 (Phobos & Deimos)',\n",
       " 'Orbit Distance:',\n",
       " '227,943,824 km (1.38 AU)',\n",
       " 'Orbit Period:',\n",
       " '687 days (1.9 years)',\n",
       " 'Surface Temperature: ',\n",
       " '-87 to -5 °C',\n",
       " 'First Record:',\n",
       " '2nd millennium BC',\n",
       " 'Recorded By:',\n",
       " 'Egyptian astronomers']"
      ]
     },
     "execution_count": 16,
     "metadata": {},
     "output_type": "execute_result"
    }
   ],
   "source": [
    "# Create list to store the collected data\n",
    "tableRows = []\n",
    "# Find the container by id\n",
    "html = soup.find(id='tablepress-p-mars-no-2')\n",
    "# Find the table data objects\n",
    "justData = html.find_all('td')\n",
    "\n",
    "for r in justData:\n",
    "    # Find the text in the row\n",
    "    c1 = r.text\n",
    "    tableRows.append(c1)\n",
    "\n",
    "tableRows"
   ]
  },
  {
   "cell_type": "code",
   "execution_count": 63,
   "id": "smoking-darkness",
   "metadata": {},
   "outputs": [
    {
     "data": {
      "text/plain": [
       "'<table border=\"1\" class=\"dataframe\">\\n  <tbody>\\n    <tr>\\n      <td>Equatorial Diameter:</td>\\n    </tr>\\n    <tr>\\n      <td>6,792 km</td>\\n    </tr>\\n    <tr>\\n      <td>Polar Diameter:</td>\\n    </tr>\\n    <tr>\\n      <td>6,752 km</td>\\n    </tr>\\n    <tr>\\n      <td>Mass:</td>\\n    </tr>\\n    <tr>\\n      <td>6.39 × 10^23 kg (0.11 Earths)</td>\\n    </tr>\\n    <tr>\\n      <td>Moons:</td>\\n    </tr>\\n    <tr>\\n      <td>2 (Phobos &amp; Deimos)</td>\\n    </tr>\\n    <tr>\\n      <td>Orbit Distance:</td>\\n    </tr>\\n    <tr>\\n      <td>227,943,824 km (1.38 AU)</td>\\n    </tr>\\n    <tr>\\n      <td>Orbit Period:</td>\\n    </tr>\\n    <tr>\\n      <td>687 days (1.9 years)</td>\\n    </tr>\\n    <tr>\\n      <td>Surface Temperature:</td>\\n    </tr>\\n    <tr>\\n      <td>-87 to -5 °C</td>\\n    </tr>\\n    <tr>\\n      <td>First Record:</td>\\n    </tr>\\n    <tr>\\n      <td>2nd millennium BC</td>\\n    </tr>\\n    <tr>\\n      <td>Recorded By:</td>\\n    </tr>\\n    <tr>\\n      <td>Egyptian astronomers</td>\\n    </tr>\\n  </tbody>\\n</table>'"
      ]
     },
     "execution_count": 63,
     "metadata": {},
     "output_type": "execute_result"
    }
   ],
   "source": [
    "# Use Pandas to convert the data to a HTML table string. \n",
    "table = pd.DataFrame(data=tableRows)\n",
    "\n",
    "htmltable = table.to_html(header=False, index=False)\n",
    "htmltable"
   ]
  },
  {
   "cell_type": "code",
   "execution_count": 17,
   "id": "verbal-coral",
   "metadata": {},
   "outputs": [
    {
     "data": {
      "text/plain": [
       "[{'title': 'Cerberus Hemisphere Enhanced',\n",
       "  'image_url': 'https://astropedia.astrogeology.usgs.gov/download/Mars/Viking/cerberus_enhanced.tif/full.jpg'},\n",
       " {'title': 'Schiaparelli Hemisphere Enhanced',\n",
       "  'image_url': 'https://astropedia.astrogeology.usgs.gov/download/Mars/Viking/schiaparelli_enhanced.tif/full.jpg'},\n",
       " {'title': 'Syrtis Major Hemisphere Enhanced',\n",
       "  'image_url': 'https://astropedia.astrogeology.usgs.gov/download/Mars/Viking/syrtis_major_enhanced.tif/full.jpg'},\n",
       " {'title': 'Valles Marineris Hemisphere Enhanced',\n",
       "  'image_url': 'https://astropedia.astrogeology.usgs.gov/download/Mars/Viking/valles_marineris_enhanced.tif/full.jpg'}]"
      ]
     },
     "execution_count": 17,
     "metadata": {},
     "output_type": "execute_result"
    }
   ],
   "source": [
    "# Mars Hemispheres\n",
    "\n",
    "# Create list to store the data\n",
    "hemisphere_image_urls = []\n",
    "\n",
    "# Use splinter to visit the page\n",
    "url = 'https://astrogeology.usgs.gov/search/results?q=hemisphere+enhanced&k1=target&v1=Mars'\n",
    "browser.visit(url)\n",
    "time.sleep(1)\n",
    "\n",
    "# Find the 4 links on the page\n",
    "hemi_links = browser.find_by_css('a.product-item img')\n",
    "\n",
    "#loop through findings\n",
    "for i in range(len(hemi_links)):\n",
    "    # package is a empty dictionary to append to the existing list\n",
    "    package = {}\n",
    "    \n",
    "    # Capture the text\n",
    "    hemi_text = browser.find_by_css('a.product-item h3')[i].text\n",
    "    # Click the link\n",
    "    browser.find_by_css('a.product-item img')[i].click()\n",
    "    # Find the URL\n",
    "    image_url = browser.find_by_text('Sample')['href']\n",
    "    # Package and add the information before returning to the original page\n",
    "    package['title'] = hemi_text\n",
    "    package['image_url'] = image_url\n",
    "    hemisphere_image_urls.append(package)\n",
    "    browser.back()\n",
    "\n",
    "hemisphere_image_urls"
   ]
  },
  {
   "cell_type": "code",
   "execution_count": 25,
   "id": "induced-artwork",
   "metadata": {},
   "outputs": [],
   "source": [
    "# Quit the controlled session\n",
    "browser.quit()"
   ]
  }
 ],
 "metadata": {
  "kernelspec": {
   "display_name": "Python 3",
   "language": "python",
   "name": "python3"
  },
  "language_info": {
   "codemirror_mode": {
    "name": "ipython",
    "version": 3
   },
   "file_extension": ".py",
   "mimetype": "text/x-python",
   "name": "python",
   "nbconvert_exporter": "python",
   "pygments_lexer": "ipython3",
   "version": "3.6.10"
  }
 },
 "nbformat": 4,
 "nbformat_minor": 5
}
