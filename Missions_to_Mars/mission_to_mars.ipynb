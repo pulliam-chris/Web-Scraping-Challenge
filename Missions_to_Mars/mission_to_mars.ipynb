{
 "cells": [
  {
   "cell_type": "code",
   "execution_count": 1,
   "id": "neural-prison",
   "metadata": {},
   "outputs": [],
   "source": [
    "# Dependencies\n",
    "import os\n",
    "from bs4 import BeautifulSoup as bs"
   ]
  },
  {
   "cell_type": "code",
   "execution_count": 60,
   "id": "applied-rating",
   "metadata": {},
   "outputs": [],
   "source": [
    "# Read HTML from website\n",
    "import requests\n",
    "url = \"https://mars.nasa.gov/news\"\n",
    "html = requests.get(url).text"
   ]
  },
  {
   "cell_type": "code",
   "execution_count": 61,
   "id": "recovered-classics",
   "metadata": {},
   "outputs": [],
   "source": [
    "# Create a Beautiful Soup object\n",
    "soup = bs(html, 'html.parser')"
   ]
  },
  {
   "cell_type": "code",
   "execution_count": 68,
   "id": "consistent-lender",
   "metadata": {},
   "outputs": [
    {
     "name": "stdout",
     "output_type": "stream",
     "text": [
      "News  – NASA’s Mars Exploration Program \n"
     ]
    }
   ],
   "source": [
    "# Extract page title text\n",
    "title = soup.title.text\n",
    "print(title)"
   ]
  },
  {
   "cell_type": "code",
   "execution_count": 63,
   "id": "arctic-robert",
   "metadata": {},
   "outputs": [],
   "source": [
    "allListElements = soup.find_all('div', class_='content_title')\n",
    "\n",
    "# A blank list to hold the headlines\n",
    "newsTitles = []\n",
    "# Loop over div elements\n",
    "for element in allListElements:\n",
    "    # If element has an anchor...\n",
    "    if (element.a):\n",
    "        # And the anchor has non-blank text...\n",
    "        if (element.a.text):\n",
    "            # Append the td to the list\n",
    "            newsTitles.append(element)"
   ]
  },
  {
   "cell_type": "code",
   "execution_count": 64,
   "id": "remarkable-extent",
   "metadata": {},
   "outputs": [
    {
     "name": "stdout",
     "output_type": "stream",
     "text": [
      "\n",
      "\n",
      "NASA's Perseverance Drives on Mars' Terrain for First Time\n",
      "\n",
      "\n",
      "\n",
      "\n",
      "NASA Awards Mars Ascent Propulsion System Contract for Sample Return\n",
      "\n",
      "\n",
      "\n",
      "\n",
      "NASA to Provide Update on Perseverance ‘Firsts' Since Mars Landing \n",
      "\n",
      "\n",
      "\n",
      "\n",
      "NASA's Mars Perseverance Rover Provides Front-Row Seat to Landing, First Audio Recording of Red Planet \n",
      "\n",
      "\n",
      "\n",
      "\n",
      "NASA to Reveal New Video, Images From Mars Perseverance Rover\n",
      "\n",
      "\n",
      "\n",
      "\n",
      "NASA's Next Mars Rover Is Ready for the Most Precise Landing Yet\n",
      "\n",
      "\n"
     ]
    }
   ],
   "source": [
    "# Print only the headlines\n",
    "for x in range(len(newsTitles)):\n",
    "    print(newsTitles[x].text) "
   ]
  },
  {
   "cell_type": "code",
   "execution_count": 70,
   "id": "actual-spider",
   "metadata": {},
   "outputs": [],
   "source": [
    "allListElement = soup.find_all('div', class_='rollover_description_inner')\n",
    "\n",
    "# A blank list to hold the descriptions\n",
    "newsDescriptions = []\n",
    "# Loop over div elements\n",
    "for element in allListElement:\n",
    "    # And the element has non-blank text...\n",
    "    if (element.text):\n",
    "        # Append the text to the list\n",
    "        newsDescriptions.append(element)"
   ]
  },
  {
   "cell_type": "code",
   "execution_count": 72,
   "id": "explicit-creature",
   "metadata": {},
   "outputs": [
    {
     "name": "stdout",
     "output_type": "stream",
     "text": [
      "\n",
      "The first trek of the agency’s largest, most advanced rover yet on the Red Planet marks a major milestone before science operations get under way.\n",
      "\n",
      "\n",
      "The award moves NASA and ESA a step closer to realizing Mars Sample Return, an ambitious planetary exploration program that will build upon decades of science, knowledge, and experience.\n",
      "\n",
      "\n",
      "Mission team members are participating in a virtual teleconference to discuss milestones achieved so far since the Feb. 18 landing and those to come.\n",
      "\n",
      "\n",
      "The agency’s newest rover captured first-of-its kind footage of its Feb. 18 touchdown and has recorded audio of Martian wind.\n",
      "\n",
      "\n",
      "\n",
      "\n",
      "First-of-its kind footage from the agency’s newest rover will be presented during a briefing this morning.\n",
      "\n",
      "\n",
      "What to expect when the Mars 2020 Perseverance rover arrives at the Red Planet on Feb. 18, 2021.\n",
      "\n"
     ]
    }
   ],
   "source": [
    "# Print only the descriptions\n",
    "for x in range(len(newsDescriptions)):\n",
    "    print(newsDescriptions[x].text) "
   ]
  },
  {
   "cell_type": "code",
   "execution_count": 111,
   "id": "related-european",
   "metadata": {},
   "outputs": [],
   "source": [
    "from splinter import Browser\n",
    "from webdriver_manager.chrome import ChromeDriverManager"
   ]
  },
  {
   "cell_type": "code",
   "execution_count": 112,
   "id": "heavy-wagner",
   "metadata": {},
   "outputs": [
    {
     "name": "stderr",
     "output_type": "stream",
     "text": [
      "[WDM] - ====== WebDriver manager ======\n",
      "[WDM] - Current google-chrome version is 89.0.4389\n",
      "[WDM] - Get LATEST driver version for 89.0.4389\n",
      "[WDM] - Driver [C:\\Users\\mrpar\\.wdm\\drivers\\chromedriver\\win32\\89.0.4389.23\\chromedriver.exe] found in cache\n"
     ]
    },
    {
     "name": "stdout",
     "output_type": "stream",
     "text": [
      "\n",
      "\n"
     ]
    }
   ],
   "source": [
    "executable_path = {'executable_path': ChromeDriverManager().install()}\n",
    "browser = Browser('chrome', **executable_path, headless=False)"
   ]
  },
  {
   "cell_type": "code",
   "execution_count": 128,
   "id": "pressing-lloyd",
   "metadata": {},
   "outputs": [],
   "source": [
    "url = 'https://data-class-jpl-space.s3.amazonaws.com/JPL_Space/index.html'\n",
    "browser.visit(url)"
   ]
  },
  {
   "cell_type": "code",
   "execution_count": 138,
   "id": "sixth-destruction",
   "metadata": {},
   "outputs": [
    {
     "data": {
      "text/plain": [
       "'https://data-class-jpl-space.s3.amazonaws.com/JPL_Space/image/featured/mars2.jpg'"
      ]
     },
     "execution_count": 138,
     "metadata": {},
     "output_type": "execute_result"
    }
   ],
   "source": [
    "html = browser.html\n",
    "soup = bs(html, 'html.parser')\n",
    "image_url = \"\"\n",
    "\n",
    "#image = soup.find_all('img', class_='headerimage fade-in')\n",
    "#image = soup.find('img')['headerimage fade-in']['src']\n",
    "for i in soup.find_all('img', class_='headerimage fade-in'):\n",
    "    image_url = (i.get('src'))\n",
    "    \n",
    "featured_image_url = 'https://data-class-jpl-space.s3.amazonaws.com/JPL_Space/' + image_url\n",
    "featured_image_url"
   ]
  },
  {
   "cell_type": "code",
   "execution_count": 139,
   "id": "religious-vegetation",
   "metadata": {},
   "outputs": [],
   "source": [
    "browser.quit()"
   ]
  },
  {
   "cell_type": "code",
   "execution_count": 2,
   "id": "smaller-oasis",
   "metadata": {},
   "outputs": [],
   "source": [
    "# Read HTML from website\n",
    "import requests\n",
    "url = \"https://space-facts.com/mars/\"\n",
    "html = requests.get(url).text"
   ]
  },
  {
   "cell_type": "code",
   "execution_count": 4,
   "id": "interim-generation",
   "metadata": {},
   "outputs": [],
   "source": [
    "# Create a Beautiful Soup object\n",
    "soup = bs(html, 'html.parser')"
   ]
  },
  {
   "cell_type": "code",
   "execution_count": 43,
   "id": "metropolitan-evanescence",
   "metadata": {},
   "outputs": [
    {
     "data": {
      "text/plain": [
       "[<td class=\"column-1\"><strong>Equatorial Diameter:</strong></td>,\n",
       " <td class=\"column-2\">6,792 km<br/></td>,\n",
       " <td class=\"column-1\"><strong>Polar Diameter:</strong></td>,\n",
       " <td class=\"column-2\">6,752 km<br/></td>,\n",
       " <td class=\"column-1\"><strong>Mass:</strong></td>,\n",
       " <td class=\"column-2\">6.39 × 10^23 kg<br/> (0.11 Earths)</td>,\n",
       " <td class=\"column-1\"><strong>Moons:</strong></td>,\n",
       " <td class=\"column-2\">2 (<a href=\"https://space-facts.com/moons/phobos/\">Phobos</a> &amp; <a href=\"https://space-facts.com/moons/deimos/\">Deimos</a>)</td>,\n",
       " <td class=\"column-1\"><strong>Orbit Distance:</strong></td>,\n",
       " <td class=\"column-2\">227,943,824 km<br/> (1.38 AU)</td>,\n",
       " <td class=\"column-1\"><strong>Orbit Period:</strong></td>,\n",
       " <td class=\"column-2\">687 days (1.9 years)<br/></td>,\n",
       " <td class=\"column-1\"><strong>Surface Temperature: </strong></td>,\n",
       " <td class=\"column-2\">-87 to -5 °C</td>,\n",
       " <td class=\"column-1\"><strong>First Record:</strong></td>,\n",
       " <td class=\"column-2\">2nd millennium BC</td>,\n",
       " <td class=\"column-1\"><strong>Recorded By:</strong></td>,\n",
       " <td class=\"column-2\">Egyptian astronomers</td>,\n",
       " <td class=\"column-1\">Diameter:</td>,\n",
       " <td class=\"column-2\"><span class=\"mars-s\">6,779 km</span></td>,\n",
       " <td class=\"column-3\"><span class=\"earth-s\">12,742 km</span></td>,\n",
       " <td class=\"column-1\">Mass:</td>,\n",
       " <td class=\"column-2\"><span class=\"mars-s\">6.39 × 10^23 kg</span></td>,\n",
       " <td class=\"column-3\"><span class=\"earth-s\">5.97 × 10^24 kg</span></td>,\n",
       " <td class=\"column-1\">Moons:</td>,\n",
       " <td class=\"column-2\"><span class=\"mars-s\">2</span></td>,\n",
       " <td class=\"column-3\"><span class=\"earth-s\">1</span></td>,\n",
       " <td class=\"column-1\">Distance from Sun:</td>,\n",
       " <td class=\"column-2\"><span class=\"mars-s\">227,943,824 km</span></td>,\n",
       " <td class=\"column-3\"><span class=\"earth-s\">149,598,262 km</span></td>,\n",
       " <td class=\"column-1\">Length of Year:</td>,\n",
       " <td class=\"column-2\"><span class=\"mars-s\">687 Earth days</span></td>,\n",
       " <td class=\"column-3\"><span class=\"earth-s\">365.24 days</span></td>,\n",
       " <td class=\"column-1\">Temperature:</td>,\n",
       " <td class=\"column-2\"><span class=\"mars-s\">-87 to -5 °C</span></td>,\n",
       " <td class=\"column-3\"><span class=\"earth-s\">-88 to 58°C</span></td>,\n",
       " <td class=\"column-1\"><strong>Equatorial Diameter:</strong></td>,\n",
       " <td class=\"column-2\">6,792 km<br/></td>,\n",
       " <td class=\"column-1\"><strong>Polar Diameter:</strong></td>,\n",
       " <td class=\"column-2\">6,752 km<br/></td>,\n",
       " <td class=\"column-1\"><strong>Mass:</strong></td>,\n",
       " <td class=\"column-2\">6.39 × 10^23 kg<br> (0.11 Earths)</br></td>,\n",
       " <td class=\"column-1\"><strong>Moons:</strong></td>,\n",
       " <td class=\"column-2\">2 (<a href=\"https://space-facts.com/moons/phobos/\">Phobos</a> &amp; <a href=\"https://space-facts.com/moons/deimos/\">Deimos</a>)</td>,\n",
       " <td class=\"column-1\"><strong>Orbit Distance:</strong></td>,\n",
       " <td class=\"column-2\">227,943,824 km<br> (1.38 AU)</br></td>,\n",
       " <td class=\"column-1\"><strong>Orbit Period:</strong></td>,\n",
       " <td class=\"column-2\">687 days (1.9 years)<br/></td>,\n",
       " <td class=\"column-1\"><strong>Surface Temperature: </strong></td>,\n",
       " <td class=\"column-2\">-87 to -5 °C</td>,\n",
       " <td class=\"column-1\"><strong>First Record:</strong></td>,\n",
       " <td class=\"column-2\">2nd millennium BC</td>,\n",
       " <td class=\"column-1\"><strong>Recorded By:</strong></td>,\n",
       " <td class=\"column-2\">Egyptian astronomers</td>]"
      ]
     },
     "execution_count": 43,
     "metadata": {},
     "output_type": "execute_result"
    }
   ],
   "source": [
    "tableRows = []\n",
    "#html = soup.select('#tablepress-p-mars-no-2')\n",
    "html = soup.select('[class~=tablepress-id-p-mars]')\n",
    "col1 = soup.find_all('td')\n",
    "#col1 = soup.find_all(class_='column-1')\n",
    "#col2 = soup.find_all(class_='column-2')\n",
    "\n",
    "\n",
    "#for r in html:\n",
    "    # And the element has non-blank text...\n",
    "#    if (r.text):\n",
    "        # Append the text to the list\n",
    "        #tableRows.append(r)\n",
    "        #col1 = (r.get('column-1'))\n",
    "        #col2 = (r.get('column-2'))\n",
    "    #tableRows.append(col1)\n",
    "    #tableRows.append(col2)\n",
    "\n",
    "col1\n",
    "#col2\n",
    "#html"
   ]
  },
  {
   "cell_type": "code",
   "execution_count": null,
   "id": "growing-collect",
   "metadata": {},
   "outputs": [],
   "source": []
  }
 ],
 "metadata": {
  "kernelspec": {
   "display_name": "Python 3",
   "language": "python",
   "name": "python3"
  },
  "language_info": {
   "codemirror_mode": {
    "name": "ipython",
    "version": 3
   },
   "file_extension": ".py",
   "mimetype": "text/x-python",
   "name": "python",
   "nbconvert_exporter": "python",
   "pygments_lexer": "ipython3",
   "version": "3.6.10"
  }
 },
 "nbformat": 4,
 "nbformat_minor": 5
}
