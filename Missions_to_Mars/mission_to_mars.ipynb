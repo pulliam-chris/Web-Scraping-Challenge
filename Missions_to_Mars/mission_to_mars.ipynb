{
 "cells": [
  {
   "cell_type": "code",
   "execution_count": 3,
   "id": "neural-prison",
   "metadata": {},
   "outputs": [],
   "source": [
    "# Dependencies\n",
    "import os\n",
    "from bs4 import BeautifulSoup as bs"
   ]
  },
  {
   "cell_type": "code",
   "execution_count": 4,
   "id": "applied-rating",
   "metadata": {},
   "outputs": [],
   "source": [
    "# Read HTML from website\n",
    "import requests\n",
    "url = \"https://mars.nasa.gov/news\"\n",
    "html = requests.get(url).text"
   ]
  },
  {
   "cell_type": "code",
   "execution_count": 5,
   "id": "recovered-classics",
   "metadata": {},
   "outputs": [],
   "source": [
    "# Create a Beautiful Soup object\n",
    "soup = bs(html, 'html.parser')"
   ]
  },
  {
   "cell_type": "code",
   "execution_count": 4,
   "id": "consistent-lender",
   "metadata": {},
   "outputs": [
    {
     "name": "stdout",
     "output_type": "stream",
     "text": [
      "News  – NASA’s Mars Exploration Program \n"
     ]
    }
   ],
   "source": [
    "# Extract page title text\n",
    "title = soup.title.text\n",
    "print(title)"
   ]
  },
  {
   "cell_type": "code",
   "execution_count": 6,
   "id": "arctic-robert",
   "metadata": {},
   "outputs": [],
   "source": [
    "allListElements = soup.find_all('div', class_='content_title')\n",
    "\n",
    "# A blank list to hold the headlines\n",
    "newsTitles = []\n",
    "# Loop over div elementsz\n",
    "for element in allListElements:\n",
    "    # If element has an anchor...\n",
    "    if (element.a):\n",
    "        # And the anchor has non-blank text...\n",
    "        if (element.a.text):\n",
    "            # Append the td to the list\n",
    "            newsTitles.append(element)"
   ]
  },
  {
   "cell_type": "code",
   "execution_count": 7,
   "id": "remarkable-extent",
   "metadata": {},
   "outputs": [
    {
     "name": "stdout",
     "output_type": "stream",
     "text": [
      "\n",
      "\n",
      "NASA's Perseverance Drives on Mars' Terrain for First Time\n",
      "\n",
      "\n",
      "\n",
      "\n",
      "NASA Awards Mars Ascent Propulsion System Contract for Sample Return\n",
      "\n",
      "\n",
      "\n",
      "\n",
      "NASA to Provide Update on Perseverance ‘Firsts' Since Mars Landing \n",
      "\n",
      "\n",
      "\n",
      "\n",
      "NASA's Mars Perseverance Rover Provides Front-Row Seat to Landing, First Audio Recording of Red Planet \n",
      "\n",
      "\n",
      "\n",
      "\n",
      "NASA to Reveal New Video, Images From Mars Perseverance Rover\n",
      "\n",
      "\n",
      "\n",
      "\n",
      "NASA's Next Mars Rover Is Ready for the Most Precise Landing Yet\n",
      "\n",
      "\n"
     ]
    }
   ],
   "source": [
    "# Print only the headlines\n",
    "for x in range(len(newsTitles)):\n",
    "    print(newsTitles[x].text) "
   ]
  },
  {
   "cell_type": "code",
   "execution_count": 8,
   "id": "actual-spider",
   "metadata": {},
   "outputs": [],
   "source": [
    "allListElement = soup.find_all('div', class_='rollover_description_inner')\n",
    "\n",
    "# A blank list to hold the descriptions\n",
    "newsDescriptions = []\n",
    "# Loop over div elements\n",
    "for element in allListElement:\n",
    "    # And the element has non-blank text...\n",
    "    if (element.text):\n",
    "        # Append the text to the list\n",
    "        newsDescriptions.append(element)"
   ]
  },
  {
   "cell_type": "code",
   "execution_count": 9,
   "id": "explicit-creature",
   "metadata": {},
   "outputs": [
    {
     "name": "stdout",
     "output_type": "stream",
     "text": [
      "\n",
      "The first trek of the agency’s largest, most advanced rover yet on the Red Planet marks a major milestone before science operations get under way.\n",
      "\n",
      "\n",
      "The award moves NASA and ESA a step closer to realizing Mars Sample Return, an ambitious planetary exploration program that will build upon decades of science, knowledge, and experience.\n",
      "\n",
      "\n",
      "Mission team members are participating in a virtual teleconference to discuss milestones achieved so far since the Feb. 18 landing and those to come.\n",
      "\n",
      "\n",
      "The agency’s newest rover captured first-of-its kind footage of its Feb. 18 touchdown and has recorded audio of Martian wind.\n",
      "\n",
      "\n",
      "\n",
      "\n",
      "First-of-its kind footage from the agency’s newest rover will be presented during a briefing this morning.\n",
      "\n",
      "\n",
      "What to expect when the Mars 2020 Perseverance rover arrives at the Red Planet on Feb. 18, 2021.\n",
      "\n"
     ]
    }
   ],
   "source": [
    "# Print only the descriptions\n",
    "for x in range(len(newsDescriptions)):\n",
    "    print(newsDescriptions[x].text) "
   ]
  },
  {
   "cell_type": "code",
   "execution_count": 32,
   "id": "related-european",
   "metadata": {},
   "outputs": [],
   "source": [
    "from splinter import Browser\n",
    "from webdriver_manager.chrome import ChromeDriverManager\n",
    "import time"
   ]
  },
  {
   "cell_type": "code",
   "execution_count": 33,
   "id": "heavy-wagner",
   "metadata": {},
   "outputs": [
    {
     "name": "stderr",
     "output_type": "stream",
     "text": [
      "[WDM] - ====== WebDriver manager ======\n",
      "[WDM] - Current google-chrome version is 89.0.4389\n",
      "[WDM] - Get LATEST driver version for 89.0.4389\n"
     ]
    },
    {
     "name": "stdout",
     "output_type": "stream",
     "text": [
      "\n",
      "\n"
     ]
    },
    {
     "name": "stderr",
     "output_type": "stream",
     "text": [
      "[WDM] - Driver [C:\\Users\\mrpar\\.wdm\\drivers\\chromedriver\\win32\\89.0.4389.23\\chromedriver.exe] found in cache\n"
     ]
    }
   ],
   "source": [
    "executable_path = {'executable_path': ChromeDriverManager().install()}\n",
    "browser = Browser('chrome', **executable_path, headless=False)"
   ]
  },
  {
   "cell_type": "code",
   "execution_count": 14,
   "id": "pressing-lloyd",
   "metadata": {},
   "outputs": [],
   "source": [
    "url = 'https://data-class-jpl-space.s3.amazonaws.com/JPL_Space/index.html'\n",
    "browser.visit(url)\n",
    "time.sleep(1)"
   ]
  },
  {
   "cell_type": "code",
   "execution_count": 15,
   "id": "sixth-destruction",
   "metadata": {},
   "outputs": [
    {
     "data": {
      "text/plain": [
       "'https://data-class-jpl-space.s3.amazonaws.com/JPL_Space/image/featured/mars2.jpg'"
      ]
     },
     "execution_count": 15,
     "metadata": {},
     "output_type": "execute_result"
    }
   ],
   "source": [
    "html = browser.html\n",
    "soup = bs(html, 'html.parser')\n",
    "image_url = \"\"\n",
    "\n",
    "#image = soup.find_all('img', class_='headerimage fade-in')\n",
    "#image = soup.find('img')['headerimage fade-in']['src']\n",
    "for i in soup.find_all('img', class_='headerimage fade-in'):\n",
    "    image_url = (i.get('src'))\n",
    "    \n",
    "featured_image_url = 'https://data-class-jpl-space.s3.amazonaws.com/JPL_Space/' + image_url\n",
    "featured_image_url"
   ]
  },
  {
   "cell_type": "code",
   "execution_count": 139,
   "id": "religious-vegetation",
   "metadata": {},
   "outputs": [],
   "source": [
    "browser.quit()"
   ]
  },
  {
   "cell_type": "code",
   "execution_count": 30,
   "id": "smaller-oasis",
   "metadata": {},
   "outputs": [],
   "source": [
    "# Read HTML from website\n",
    "import requests\n",
    "url = \"https://space-facts.com/mars/\"\n",
    "html = requests.get(url).text"
   ]
  },
  {
   "cell_type": "code",
   "execution_count": 31,
   "id": "liquid-tragedy",
   "metadata": {},
   "outputs": [],
   "source": [
    "# Create a Beautiful Soup object\n",
    "soup = bs(html, 'html.parser')"
   ]
  },
  {
   "cell_type": "code",
   "execution_count": 18,
   "id": "worse-current",
   "metadata": {},
   "outputs": [
    {
     "data": {
      "text/plain": [
       "['Equatorial Diameter:',\n",
       " '6,792 km',\n",
       " 'Polar Diameter:',\n",
       " '6,752 km',\n",
       " 'Mass:',\n",
       " '6.39 × 10^23 kg (0.11 Earths)',\n",
       " 'Moons:',\n",
       " '2 (Phobos & Deimos)',\n",
       " 'Orbit Distance:',\n",
       " '227,943,824 km (1.38 AU)',\n",
       " 'Orbit Period:',\n",
       " '687 days (1.9 years)',\n",
       " 'Surface Temperature: ',\n",
       " '-87 to -5 °C',\n",
       " 'First Record:',\n",
       " '2nd millennium BC',\n",
       " 'Recorded By:',\n",
       " 'Egyptian astronomers']"
      ]
     },
     "execution_count": 18,
     "metadata": {},
     "output_type": "execute_result"
    }
   ],
   "source": [
    "tableRows = []\n",
    "#html = soup.select('#tablepress-p-mars-no-2')\n",
    "html = soup.find(id='tablepress-p-mars-no-2')\n",
    "justData = html.find_all('td')\n",
    "#col1 = soup.find_all('tr')\n",
    "#col1 = soup.find_all(class_='column-1')\n",
    "#col2 = soup.find_all(class_='column-2')\n",
    "\n",
    "\n",
    "for r in justData:\n",
    "    # And the element has non-blank text...\n",
    "    #if (r.text):\n",
    "    # Append the text to the list\n",
    "    #tableRows.append(r)\n",
    "    c1 = r.text\n",
    "    #c2 = (r.get('column-2'))\n",
    "    tableRows.append(c1)\n",
    "    #tableRows.append(col2)\n",
    "\n",
    "#col1\n",
    "#col2\n",
    "#justData\n",
    "tableRows"
   ]
  },
  {
   "cell_type": "code",
   "execution_count": 41,
   "id": "verbal-coral",
   "metadata": {},
   "outputs": [
    {
     "data": {
      "text/plain": [
       "[{'title': 'Cerberus Hemisphere Enhanced',\n",
       "  'image_url': 'https://astropedia.astrogeology.usgs.gov/download/Mars/Viking/cerberus_enhanced.tif/full.jpg'},\n",
       " {'title': 'Schiaparelli Hemisphere Enhanced',\n",
       "  'image_url': 'https://astropedia.astrogeology.usgs.gov/download/Mars/Viking/schiaparelli_enhanced.tif/full.jpg'},\n",
       " {'title': 'Syrtis Major Hemisphere Enhanced',\n",
       "  'image_url': 'https://astropedia.astrogeology.usgs.gov/download/Mars/Viking/syrtis_major_enhanced.tif/full.jpg'},\n",
       " {'title': 'Valles Marineris Hemisphere Enhanced',\n",
       "  'image_url': 'https://astropedia.astrogeology.usgs.gov/download/Mars/Viking/valles_marineris_enhanced.tif/full.jpg'}]"
      ]
     },
     "execution_count": 41,
     "metadata": {},
     "output_type": "execute_result"
    }
   ],
   "source": [
    "hemisphere_image_urls = []\n",
    "url = 'https://astrogeology.usgs.gov/search/results?q=hemisphere+enhanced&k1=target&v1=Mars'\n",
    "browser.visit(url)\n",
    "time.sleep(1)\n",
    "\n",
    "#hemi_text = browser.find_by_css('a.product-item h3').text\n",
    "hemi_links = browser.find_by_css('a.product-item img')\n",
    "\n",
    "#loop through findings\n",
    "for i in range(len(hemi_links)):\n",
    "    package = {}\n",
    "    hemi_text = browser.find_by_css('a.product-item h3')[i].text\n",
    "    browser.find_by_css('a.product-item img')[i].click()\n",
    "    image_url = browser.find_by_text('Sample')['href']\n",
    "    package['title'] = hemi_text\n",
    "    package['image_url'] = image_url\n",
    "    hemisphere_image_urls.append(package)\n",
    "    browser.back()\n",
    "\n",
    "hemisphere_image_urls"
   ]
  },
  {
   "cell_type": "code",
   "execution_count": 27,
   "id": "combined-witness",
   "metadata": {},
   "outputs": [
    {
     "name": "stdout",
     "output_type": "stream",
     "text": [
      "<splinter.driver.webdriver.WebDriverElement object at 0x0000020756957B70>\n"
     ]
    }
   ],
   "source": [
    "#browser.links.find_by_partial_text('Cerberus Hemisphere Enhanced').click()\n",
    "#browser.links.find_by_partial_text('Open').click()\n",
    "imageurl = browser.links.find_by_text('Sample')\n",
    "#directurl = browser.url\n",
    "#browser.back()\n",
    "#imageurl = soup.html('div')\n",
    "#directurl = soup.find_all('a',target='_blan\n",
    "\n",
    "for image in imageurl:\n",
    "    print(image)"
   ]
  },
  {
   "cell_type": "code",
   "execution_count": null,
   "id": "dutch-allen",
   "metadata": {},
   "outputs": [],
   "source": [
    "#<img class=\"wide-image\" src=\"/cache/images/f5e372a36edfa389625da6d0cc25d905_cerberus_enhanced.tif_full.jpg\">\n",
    "#https://astrogeology.usgs.gov/cache/images/f5e372a36edfa389625da6d0cc25d905_cerberus_enhanced.tif_full.jpg\n",
    "#https://astropedia.astrogeology.usgs.gov/download/Mars/Viking/cerberus_enhanced.tif/full.jpg"
   ]
  },
  {
   "cell_type": "code",
   "execution_count": null,
   "id": "confirmed-apartment",
   "metadata": {},
   "outputs": [],
   "source": [
    "\n"
   ]
  },
  {
   "cell_type": "code",
   "execution_count": 42,
   "id": "induced-artwork",
   "metadata": {},
   "outputs": [],
   "source": [
    "browser.quit()"
   ]
  },
  {
   "cell_type": "code",
   "execution_count": null,
   "id": "floppy-satellite",
   "metadata": {},
   "outputs": [],
   "source": []
  }
 ],
 "metadata": {
  "kernelspec": {
   "display_name": "Python 3",
   "language": "python",
   "name": "python3"
  },
  "language_info": {
   "codemirror_mode": {
    "name": "ipython",
    "version": 3
   },
   "file_extension": ".py",
   "mimetype": "text/x-python",
   "name": "python",
   "nbconvert_exporter": "python",
   "pygments_lexer": "ipython3",
   "version": "3.6.10"
  }
 },
 "nbformat": 4,
 "nbformat_minor": 5
}
